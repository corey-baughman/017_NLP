{
 "cells": [
  {
   "cell_type": "markdown",
   "id": "df0041cd-12e5-437a-beec-db82be034b1a",
   "metadata": {},
   "source": [
    "# Data Acquisition \n",
    "\n",
    "## Imports"
   ]
  },
  {
   "cell_type": "code",
   "execution_count": 1,
   "id": "d980cdfc-640d-40d0-9fb8-e152d0333af3",
   "metadata": {},
   "outputs": [],
   "source": [
    "from requests import get\n",
    "from bs4 import BeautifulSoup\n",
    "import os\n",
    "import pandas as pd\n",
    "import re"
   ]
  },
  {
   "cell_type": "markdown",
   "id": "1807b132-84dc-4d3f-8383-91f0745cc386",
   "metadata": {},
   "source": [
    "## Codeup Blog Articles\n",
    "\n",
    "Visit Codeup's Blog and record the urls for at least 5 distinct blog posts. For each post, you should scrape at least the post's title and content.\n",
    "\n",
    "Encapsulate your work in a function named get_blog_articles that will return a list of dictionaries, with each dictionary representing one article. The shape of each dictionary should look like this:\n",
    "\n",
    "```python\n",
    "{\n",
    "    'title': 'the title of the article',\n",
    "    'content': 'the full text content of the article'\n",
    "}\n",
    "```\n",
    "\n",
    "Plus any additional properties you think might be helpful.\n",
    "\n"
   ]
  },
  {
   "cell_type": "code",
   "execution_count": 2,
   "id": "9a57ee98-f38b-462b-8c5e-a0638eb9f826",
   "metadata": {},
   "outputs": [],
   "source": [
    "url = 'https://codeup.com/blog/'\n",
    "headers = {'User-Agent': 'Codeup Data Science'}\n",
    "response = get(url, headers=headers)"
   ]
  },
  {
   "cell_type": "code",
   "execution_count": 3,
   "id": "0cf58ea7-ab1c-41f3-9ac5-a407f14a6f69",
   "metadata": {},
   "outputs": [],
   "source": [
    "soup = BeautifulSoup(response.content, 'html.parser')"
   ]
  },
  {
   "cell_type": "markdown",
   "id": "bedd9d6b",
   "metadata": {},
   "source": [
    "### find_all is one way to get access to each article link"
   ]
  },
  {
   "cell_type": "code",
   "execution_count": 4,
   "id": "e907a351",
   "metadata": {
    "scrolled": true
   },
   "outputs": [
    {
     "data": {
      "text/plain": [
       "[<a href=\"https://codeup.com/\">Home</a>,\n",
       " <a href=\"https://codeup.com/program/cloud-adminsitration/\">Cloud Administration</a>,\n",
       " <a href=\"https://codeup.com/program/full-stack-web-development/\">Full Stack Web Development</a>,\n",
       " <a href=\"https://codeup.com/program/data-science/\">Data Science</a>,\n",
       " <a href=\"/events/\">Workshops</a>,\n",
       " <a href=\"/san-antonio-events/\">San Antonio</a>,\n",
       " <a href=\"/dallas-events/\">Dallas</a>,\n",
       " <a href=\"https://codeup.com/financial-aid/\">Financial Aid</a>,\n",
       " <a href=\"https://codeup.com/veterans/\">Military</a>,\n",
       " <a href=\"https://codeup.com/hire-tech-talent/\">Hire Tech Talent</a>,\n",
       " <a href=\"https://alumni.codeup.com/\">Alumni</a>,\n",
       " <a href=\"https://codeup.com/resources/\">Resources</a>,\n",
       " <a href=\"/my-story/\">Student Reviews</a>,\n",
       " <a aria-current=\"page\" href=\"https://codeup.com/blog/\">Blog</a>,\n",
       " <a href=\"https://codeup.com/frequently-asked-questions/\">Common Questions</a>,\n",
       " <a href=\"https://codeup.com/podcast/\">Hire Tech Podcast</a>,\n",
       " <a href=\"https://codeup.com/apply-now/\">Apply Now</a>,\n",
       " <a href=\"https://codeup.com/\">\n",
       " <img alt=\"Codeup\" class=\"main-logo normal-logo\" id=\"dm-logo\" src=\"https://tribucodeup.wpenginepowered.com/wp-content/uploads/2021/08/CodeupFullColorLogo.png\" title=\"\">\n",
       " </img></a>,\n",
       " <a href=\"/about-codeup/\">About</a>,\n",
       " <a href=\"/category/behind-the-billboards/\">Behind The Billboards</a>,\n",
       " <a href=\"/careers/\">Careers</a>,\n",
       " <a href=\"/index.php/\"><img alt=\"Codeup Best Coding Bootcamp\" class=\"wp-image-15393\" decoding=\"async\" height=\"730\" loading=\"lazy\" sizes=\"(min-width: 0px) and (max-width: 480px) 480px, (min-width: 481px) and (max-width: 980px) 980px, (min-width: 981px) and (max-width: 1280px) 1280px, (min-width: 1281px) 2140px, 100vw\" src=\"https://tribucodeup.wpenginepowered.com/wp-content/uploads/2021/08/CodeupFullColorLogo.png\" srcset=\"https://tribucodeup.wpenginepowered.com/wp-content/uploads/2021/08/CodeupFullColorLogo.png 2140w, https://tribucodeup.wpenginepowered.com/wp-content/uploads/2021/08/CodeupFullColorLogo-1280x437.png 1280w, https://tribucodeup.wpenginepowered.com/wp-content/uploads/2021/08/CodeupFullColorLogo-980x334.png 980w, https://tribucodeup.wpenginepowered.com/wp-content/uploads/2021/08/CodeupFullColorLogo-480x164.png 480w\" width=\"2140\"/></a>,\n",
       " <a href=\"https://codeup.com/programs/\" title=\"Coding Programs\">Programs</a>,\n",
       " <a href=\"https://codeup.com/program/data-science/\" title=\"Data Science Bootcamp in Texas\">Data Science</a>,\n",
       " <a href=\"https://codeup.com/program/cloud-administration/\">Cloud Administration</a>,\n",
       " <a href=\"https://codeup.com/program/full-stack-web-development/\" title=\"Full Stack Web Development Bootcamp\">Web Development</a>,\n",
       " <a href=\"https://codeup.com/events/\">Workshops</a>,\n",
       " <a aria-current=\"page\" href=\"https://codeup.com/blog/\">Blog</a>,\n",
       " <a>Campuses</a>,\n",
       " <a href=\"https://codeup.com/san-antonio/\">San Antonio</a>,\n",
       " <a href=\"https://codeup.com/dallas/\">Dallas</a>,\n",
       " <a href=\"https://codeup.com/hire-tech-talent/\" title=\"Hire Diversified Tech Talent\">Hire</a>,\n",
       " <a href=\"https://codeup.com/hire-tech-talent/\">Hire Our Grads</a>,\n",
       " <a href=\"https://alumni.codeup.com/\">Alumni Portal</a>,\n",
       " <a href=\"https://codeup.com/resources/\">Resources</a>,\n",
       " <a href=\"/financial-aid/\">Financing</a>,\n",
       " <a href=\"https://codeup.com/veterans/\">Military</a>,\n",
       " <a href=\"/my-story/\">Alumni Stories</a>,\n",
       " <a href=\"https://codeup.com/frequently-asked-questions/\">Common Questions</a>,\n",
       " <a class=\"et_pb_button et_pb_button_0_tb_header et_pb_bg_layout_light\" href=\"/apply-now/\">Start Now</a>,\n",
       " <a class=\"entry-featured-image-url\" href=\"https://codeup.com/featured/women-in-tech-panelist-spotlight/\"><img alt=\"Women in tech: Panelist Spotlight – Magdalena Rahn\" class=\"\" decoding=\"async\" height=\"250\" loading=\"lazy\" sizes=\"(max-width:479px) 479px, 100vw \" src=\"https://tribucodeup.wpenginepowered.com/wp-content/uploads/2023/03/WOMEN-IN-TECH-1920-×-1080-px-3-1-400x250.png\" srcset=\"https://tribucodeup.wpenginepowered.com/wp-content/uploads/2023/03/WOMEN-IN-TECH-1920-×-1080-px-3-1.png 479w, https://tribucodeup.wpenginepowered.com/wp-content/uploads/2023/03/WOMEN-IN-TECH-1920-×-1080-px-3-1-400x250.png 480w \" width=\"400\"/></a>,\n",
       " <a href=\"https://codeup.com/featured/women-in-tech-panelist-spotlight/\">Women in tech: Panelist Spotlight – Magdalena Rahn</a>,\n",
       " <a class=\"more-link\" href=\"https://codeup.com/featured/women-in-tech-panelist-spotlight/\">read more</a>,\n",
       " <a class=\"entry-featured-image-url\" href=\"https://codeup.com/featured/women-in-tech-rachel-robbins-mayhill/\"><img alt=\"Women in tech: Panelist Spotlight – Rachel Robbins-Mayhill\" class=\"\" decoding=\"async\" height=\"250\" loading=\"lazy\" sizes=\"(max-width:479px) 479px, 100vw \" src=\"https://tribucodeup.wpenginepowered.com/wp-content/uploads/2023/03/WOMEN-IN-TECH-1920-×-1080-px-2-400x250.png\" srcset=\"https://tribucodeup.wpenginepowered.com/wp-content/uploads/2023/03/WOMEN-IN-TECH-1920-×-1080-px-2.png 479w, https://tribucodeup.wpenginepowered.com/wp-content/uploads/2023/03/WOMEN-IN-TECH-1920-×-1080-px-2-400x250.png 480w \" width=\"400\"/></a>,\n",
       " <a href=\"https://codeup.com/featured/women-in-tech-rachel-robbins-mayhill/\">Women in tech: Panelist Spotlight – Rachel Robbins-Mayhill</a>,\n",
       " <a class=\"more-link\" href=\"https://codeup.com/featured/women-in-tech-rachel-robbins-mayhill/\">read more</a>,\n",
       " <a class=\"entry-featured-image-url\" href=\"https://codeup.com/codeup-news/women-in-tech-panelist-spotlight-sarah-mellor/\"><img alt=\"Women in Tech: Panelist Spotlight – Sarah Mellor\" class=\"\" decoding=\"async\" height=\"250\" loading=\"lazy\" sizes=\"(max-width:479px) 479px, 100vw \" src=\"https://tribucodeup.wpenginepowered.com/wp-content/uploads/2023/03/WOMEN-IN-TECH-1920-×-1080-px-1-400x250.png\" srcset=\"https://tribucodeup.wpenginepowered.com/wp-content/uploads/2023/03/WOMEN-IN-TECH-1920-×-1080-px-1.png 479w, https://tribucodeup.wpenginepowered.com/wp-content/uploads/2023/03/WOMEN-IN-TECH-1920-×-1080-px-1-400x250.png 480w \" width=\"400\"/></a>,\n",
       " <a href=\"https://codeup.com/codeup-news/women-in-tech-panelist-spotlight-sarah-mellor/\">Women in Tech: Panelist Spotlight – Sarah Mellor</a>,\n",
       " <a class=\"more-link\" href=\"https://codeup.com/codeup-news/women-in-tech-panelist-spotlight-sarah-mellor/\">read more</a>,\n",
       " <a class=\"entry-featured-image-url\" href=\"https://codeup.com/events/women-in-tech-madeleine/\"><img alt=\"Women in Tech: Panelist Spotlight – Madeleine Capper\" class=\"\" decoding=\"async\" height=\"250\" loading=\"lazy\" sizes=\"(max-width:479px) 479px, 100vw \" src=\"https://tribucodeup.wpenginepowered.com/wp-content/uploads/2023/03/Madeleine-C.-400x250.png\" srcset=\"https://tribucodeup.wpenginepowered.com/wp-content/uploads/2023/03/Madeleine-C..png 479w, https://tribucodeup.wpenginepowered.com/wp-content/uploads/2023/03/Madeleine-C.-400x250.png 480w \" width=\"400\"/></a>,\n",
       " <a href=\"https://codeup.com/events/women-in-tech-madeleine/\">Women in Tech: Panelist Spotlight – Madeleine Capper</a>,\n",
       " <a class=\"more-link\" href=\"https://codeup.com/events/women-in-tech-madeleine/\">read more</a>,\n",
       " <a class=\"entry-featured-image-url\" href=\"https://codeup.com/codeup-news/panelist-spotlight-4/\"><img alt=\"Black Excellence in Tech: Panelist Spotlight – Wilmarie De La Cruz Mejia\" class=\"\" decoding=\"async\" height=\"250\" loading=\"lazy\" sizes=\"(max-width:479px) 479px, 100vw \" src=\"https://tribucodeup.wpenginepowered.com/wp-content/uploads/2023/02/Black-Excellence-in-Tech-1920-×-1080-px-400x250.png\" srcset=\"https://tribucodeup.wpenginepowered.com/wp-content/uploads/2023/02/Black-Excellence-in-Tech-1920-×-1080-px.png 479w, https://tribucodeup.wpenginepowered.com/wp-content/uploads/2023/02/Black-Excellence-in-Tech-1920-×-1080-px-400x250.png 480w \" width=\"400\"/></a>,\n",
       " <a href=\"https://codeup.com/codeup-news/panelist-spotlight-4/\">Black Excellence in Tech: Panelist Spotlight – Wilmarie De La Cruz Mejia</a>,\n",
       " <a class=\"more-link\" href=\"https://codeup.com/codeup-news/panelist-spotlight-4/\">read more</a>,\n",
       " <a class=\"entry-featured-image-url\" href=\"https://codeup.com/events/black-excellence-in-tech-panelist-spotlight-stephanie-jones/\"><img alt=\"Black excellence in tech: Panelist Spotlight – Stephanie Jones\" class=\"\" decoding=\"async\" height=\"250\" loading=\"lazy\" sizes=\"(max-width:479px) 479px, 100vw \" src=\"https://tribucodeup.wpenginepowered.com/wp-content/uploads/2023/02/2.13.23-Black-Excellence-in-Tech-1920-×-1080-px-Stephanie-400x250.png\" srcset=\"https://tribucodeup.wpenginepowered.com/wp-content/uploads/2023/02/2.13.23-Black-Excellence-in-Tech-1920-×-1080-px-Stephanie.png 479w, https://tribucodeup.wpenginepowered.com/wp-content/uploads/2023/02/2.13.23-Black-Excellence-in-Tech-1920-×-1080-px-Stephanie-400x250.png 480w \" width=\"400\"/></a>,\n",
       " <a href=\"https://codeup.com/events/black-excellence-in-tech-panelist-spotlight-stephanie-jones/\">Black excellence in tech: Panelist Spotlight – Stephanie Jones</a>,\n",
       " <a class=\"more-link\" href=\"https://codeup.com/events/black-excellence-in-tech-panelist-spotlight-stephanie-jones/\">read more</a>,\n",
       " <a href=\"https://codeup.com/blog/page/2/?et_blog\">« Older Entries</a>,\n",
       " <a href=\"tel:12108027289\" title=\"call Codeup\">(210) 802–7289</a>,\n",
       " <a class=\"icon et_pb_with_border\" href=\"https://www.facebook.com/GoCodeup/\" target=\"_blank\" title=\"Follow on Facebook\"><span aria-hidden=\"true\" class=\"et_pb_social_media_follow_network_name\">Follow</span></a>,\n",
       " <a class=\"icon et_pb_with_border\" href=\"https://twitter.com/gocodeup\" target=\"_blank\" title=\"Follow on Twitter\"><span aria-hidden=\"true\" class=\"et_pb_social_media_follow_network_name\">Follow</span></a>,\n",
       " <a class=\"icon et_pb_with_border\" href=\"https://www.instagram.com/gocodeup/?hl=en\" target=\"_blank\" title=\"Follow on Instagram\"><span aria-hidden=\"true\" class=\"et_pb_social_media_follow_network_name\">Follow</span></a>,\n",
       " <a class=\"icon et_pb_with_border\" href=\"https://www.linkedin.com/school/3799914\" target=\"_blank\" title=\"Follow on LinkedIn\"><span aria-hidden=\"true\" class=\"et_pb_social_media_follow_network_name\">Follow</span></a>,\n",
       " <a class=\"icon et_pb_with_border\" href=\"/podcast/\" target=\"_blank\" title=\"Follow on RSS\"><span aria-hidden=\"true\" class=\"et_pb_social_media_follow_network_name\">Follow</span></a>,\n",
       " <a href=\"/dallas\">Dallas</a>,\n",
       " <a href=\"/san-antonio\">San Antonio</a>,\n",
       " <a href=\"/index.php/\"><span class=\"et_pb_image_wrap\"><img alt=\"quack quack\" class=\"wp-image-15815\" decoding=\"async\" height=\"256\" loading=\"lazy\" sizes=\"(max-width: 336px) 100vw, 336px\" src=\"https://tribucodeup.wpenginepowered.com/wp-content/uploads/2018/08/codey-1.png\" srcset=\"https://tribucodeup.wpenginepowered.com/wp-content/uploads/2018/08/codey-1.png 336w, https://tribucodeup.wpenginepowered.com/wp-content/uploads/2018/08/codey-1-300x229.png 300w\" title=\"Codey\" width=\"336\"/></span></a>,\n",
       " <a href=\"/why-codeup/\" title=\"About Codeup\">Why Codeup?</a>,\n",
       " <a href=\"/financial-aid/\" title=\"how to pay for bootcamp\">Financial Aid Options</a>,\n",
       " <a href=\"/my-story/\" title=\"Codeup Reviews\">Student Reviews</a>,\n",
       " <a href=\"https://alumni.codeup.com/\" rel=\"noopener\" target=\"_blank\" title=\"Hire Our Grads\">Hire Our Grads</a>,\n",
       " <a href=\"/refund/\" title=\"Codeup Refund Policy\"></a>,\n",
       " <a href=\"/refund/\" title=\"Codeup Refund Policy\">Refund Policy</a>,\n",
       " <a href=\"/frequently-asked-questions/\" title=\"frequently asked questions\">FAQs</a>,\n",
       " <a href=\"/careers/\" title=\"Jobs at Codeup\">Careers</a>,\n",
       " <a href=\"/pr/\" title=\"press assets for Codeup\">Media Kit</a>,\n",
       " <a href=\"/program/full-stack-web-development/\" title=\"coding bootcamp in Texas\">Full Stack Web Development</a>,\n",
       " <a href=\"/program/data-science/\" title=\"data science bootcamp in Texas\">Data Science</a>,\n",
       " <a href=\"/cloud-administration/\" title=\"learn Cloud Administration in Texas\">Cloud Administration</a>,\n",
       " <a href=\"/free/\" title=\"learn to code for free\">Free Networking Course</a>,\n",
       " <a class=\"et_pb_button et_pb_button_0_tb_footer et_pb_bg_layout_light\" href=\"/apply-now/\">Apply Now</a>,\n",
       " <a href=\"/privacy/\">Privacy Policy</a>,\n",
       " <a href=\"/student-complaint-policy/\" title=\"complaint policy\">Complaint Policy</a>,\n",
       " <a href=\"/codeup-news/inclusion-at-codeup-during-pride-month-and-always/\" title=\"DEI at Codeup\">Inclusion</a>,\n",
       " <a href=\"/accessibility/\">Accessibility</a>,\n",
       " <a href=\"/sitemap_index.xml\">Sitemap</a>,\n",
       " <a class=\"wt-cli-ccpa-opt-out\" style=\"color:#333333\">No worries, we do not sell your personal information.</a>,\n",
       " <a class=\"medium cli-plugin-button cli-plugin-main-button cli_settings_button\" role=\"button\" style=\"margin:0px 10px 0px 5px\">Cookie Settings</a>,\n",
       " <a class=\"medium cli-plugin-button cli-plugin-main-button cookie_action_close_header cli_action_button wt-cli-accept-btn\" data-cli_action=\"accept\" id=\"cookie_action_close_header\" role=\"button\" style=\"display:inline-block\">Accept</a>,\n",
       " <a aria-label=\"Show more\" class=\"cli-privacy-readmore\" data-readless-text=\"Show less\" data-readmore-text=\"Show more\" role=\"button\"></a>,\n",
       " <a class=\"cli-nav-link cli-settings-mobile\" data-target=\"necessary\" data-toggle=\"cli-toggle-tab\" role=\"button\" tabindex=\"0\">\n",
       " \t\t\t\t\t\t\t\tNecessary\t\t\t\t\t\t\t</a>,\n",
       " <a class=\"cli-nav-link cli-settings-mobile\" data-target=\"functional\" data-toggle=\"cli-toggle-tab\" role=\"button\" tabindex=\"0\">\n",
       " \t\t\t\t\t\t\t\tFunctional\t\t\t\t\t\t\t</a>,\n",
       " <a class=\"cli-nav-link cli-settings-mobile\" data-target=\"performance\" data-toggle=\"cli-toggle-tab\" role=\"button\" tabindex=\"0\">\n",
       " \t\t\t\t\t\t\t\tPerformance\t\t\t\t\t\t\t</a>,\n",
       " <a class=\"cli-nav-link cli-settings-mobile\" data-target=\"analytics\" data-toggle=\"cli-toggle-tab\" role=\"button\" tabindex=\"0\">\n",
       " \t\t\t\t\t\t\t\tAnalytics\t\t\t\t\t\t\t</a>,\n",
       " <a class=\"cli-nav-link cli-settings-mobile\" data-target=\"advertisement\" data-toggle=\"cli-toggle-tab\" role=\"button\" tabindex=\"0\">\n",
       " \t\t\t\t\t\t\t\tAdvertisement\t\t\t\t\t\t\t</a>,\n",
       " <a class=\"cli-nav-link cli-settings-mobile\" data-target=\"others\" data-toggle=\"cli-toggle-tab\" role=\"button\" tabindex=\"0\">\n",
       " \t\t\t\t\t\t\t\tOthers\t\t\t\t\t\t\t</a>,\n",
       " <a class=\"wt-cli-privacy-btn cli_setting_save_button wt-cli-privacy-accept-btn cli-btn\" data-cli-action=\"accept\" id=\"wt-cli-privacy-save-btn\" role=\"button\" tabindex=\"0\">SAVE &amp; ACCEPT</a>]"
      ]
     },
     "execution_count": 4,
     "metadata": {},
     "output_type": "execute_result"
    }
   ],
   "source": [
    "soup.find_all('a')"
   ]
  },
  {
   "cell_type": "code",
   "execution_count": 5,
   "id": "9c139b9d",
   "metadata": {
    "scrolled": true
   },
   "outputs": [
    {
     "data": {
      "text/plain": [
       "[<a class=\"more-link\" href=\"https://codeup.com/featured/women-in-tech-panelist-spotlight/\">read more</a>,\n",
       " <a class=\"more-link\" href=\"https://codeup.com/featured/women-in-tech-rachel-robbins-mayhill/\">read more</a>,\n",
       " <a class=\"more-link\" href=\"https://codeup.com/codeup-news/women-in-tech-panelist-spotlight-sarah-mellor/\">read more</a>,\n",
       " <a class=\"more-link\" href=\"https://codeup.com/events/women-in-tech-madeleine/\">read more</a>,\n",
       " <a class=\"more-link\" href=\"https://codeup.com/codeup-news/panelist-spotlight-4/\">read more</a>,\n",
       " <a class=\"more-link\" href=\"https://codeup.com/events/black-excellence-in-tech-panelist-spotlight-stephanie-jones/\">read more</a>]"
      ]
     },
     "execution_count": 5,
     "metadata": {},
     "output_type": "execute_result"
    }
   ],
   "source": [
    "soup.find_all('a', class_='more-link')"
   ]
  },
  {
   "cell_type": "code",
   "execution_count": 6,
   "id": "8e89a2ba",
   "metadata": {
    "scrolled": true
   },
   "outputs": [
    {
     "data": {
      "text/plain": [
       "<a class=\"more-link\" href=\"https://codeup.com/featured/women-in-tech-panelist-spotlight/\">read more</a>"
      ]
     },
     "execution_count": 6,
     "metadata": {},
     "output_type": "execute_result"
    }
   ],
   "source": [
    "soup.find_all('a', class_='more-link')[0]"
   ]
  },
  {
   "cell_type": "code",
   "execution_count": 7,
   "id": "04531bdf",
   "metadata": {},
   "outputs": [
    {
     "data": {
      "text/plain": [
       "'https://codeup.com/featured/women-in-tech-panelist-spotlight/'"
      ]
     },
     "execution_count": 7,
     "metadata": {},
     "output_type": "execute_result"
    }
   ],
   "source": [
    "soup.find_all('a', class_='more-link')[0]['href']"
   ]
  },
  {
   "cell_type": "markdown",
   "id": "c07e0ebb",
   "metadata": {},
   "source": [
    "### select is another way to get access to each article link"
   ]
  },
  {
   "cell_type": "code",
   "execution_count": 8,
   "id": "1b29fc5c-3e20-4ccc-9171-41114b4d5283",
   "metadata": {
    "scrolled": false
   },
   "outputs": [
    {
     "data": {
      "text/plain": [
       "[<a class=\"more-link\" href=\"https://codeup.com/featured/women-in-tech-panelist-spotlight/\">read more</a>,\n",
       " <a class=\"more-link\" href=\"https://codeup.com/featured/women-in-tech-rachel-robbins-mayhill/\">read more</a>,\n",
       " <a class=\"more-link\" href=\"https://codeup.com/codeup-news/women-in-tech-panelist-spotlight-sarah-mellor/\">read more</a>,\n",
       " <a class=\"more-link\" href=\"https://codeup.com/events/women-in-tech-madeleine/\">read more</a>,\n",
       " <a class=\"more-link\" href=\"https://codeup.com/codeup-news/panelist-spotlight-4/\">read more</a>,\n",
       " <a class=\"more-link\" href=\"https://codeup.com/events/black-excellence-in-tech-panelist-spotlight-stephanie-jones/\">read more</a>]"
      ]
     },
     "execution_count": 8,
     "metadata": {},
     "output_type": "execute_result"
    }
   ],
   "source": [
    "soup.select('.more-link')"
   ]
  },
  {
   "cell_type": "code",
   "execution_count": 9,
   "id": "127040c2-11b6-44d1-9721-dd34ccc84703",
   "metadata": {},
   "outputs": [
    {
     "data": {
      "text/plain": [
       "<a class=\"more-link\" href=\"https://codeup.com/featured/women-in-tech-panelist-spotlight/\">read more</a>"
      ]
     },
     "execution_count": 9,
     "metadata": {},
     "output_type": "execute_result"
    }
   ],
   "source": [
    "soup.select('.more-link')[0]"
   ]
  },
  {
   "cell_type": "code",
   "execution_count": 10,
   "id": "cf6b3fff-1ef7-461e-9398-198cdb192704",
   "metadata": {},
   "outputs": [
    {
     "data": {
      "text/plain": [
       "'https://codeup.com/featured/women-in-tech-panelist-spotlight/'"
      ]
     },
     "execution_count": 10,
     "metadata": {},
     "output_type": "execute_result"
    }
   ],
   "source": [
    "soup.select('.more-link')[0]['href']"
   ]
  },
  {
   "cell_type": "markdown",
   "id": "e866e66c-07ea-4bba-b6c6-903769771ec1",
   "metadata": {},
   "source": [
    "### List comprehension review"
   ]
  },
  {
   "cell_type": "code",
   "execution_count": 11,
   "id": "cc765b15-bd4d-4cb9-93d4-9acc7a7f3ad2",
   "metadata": {},
   "outputs": [
    {
     "data": {
      "text/plain": [
       "[1, 2, 3, 4, 5, 6, 7, 8, 9, 10]"
      ]
     },
     "execution_count": 11,
     "metadata": {},
     "output_type": "execute_result"
    }
   ],
   "source": [
    "[n for n in range(1, 11)]"
   ]
  },
  {
   "cell_type": "markdown",
   "id": "4c5a78f7-dea7-4b40-8999-38ddad472454",
   "metadata": {},
   "source": [
    "### Using list comprehension to get all the links out"
   ]
  },
  {
   "cell_type": "code",
   "execution_count": 12,
   "id": "a6a146c0-1ce6-4763-b8ec-3f477bcdbc38",
   "metadata": {},
   "outputs": [
    {
     "data": {
      "text/plain": [
       "['https://codeup.com/featured/women-in-tech-panelist-spotlight/',\n",
       " 'https://codeup.com/featured/women-in-tech-rachel-robbins-mayhill/',\n",
       " 'https://codeup.com/codeup-news/women-in-tech-panelist-spotlight-sarah-mellor/',\n",
       " 'https://codeup.com/events/women-in-tech-madeleine/',\n",
       " 'https://codeup.com/codeup-news/panelist-spotlight-4/',\n",
       " 'https://codeup.com/events/black-excellence-in-tech-panelist-spotlight-stephanie-jones/']"
      ]
     },
     "execution_count": 12,
     "metadata": {},
     "output_type": "execute_result"
    }
   ],
   "source": [
    "links = [link['href'] for link in soup.select('.more-link')]\n",
    "links"
   ]
  },
  {
   "cell_type": "markdown",
   "id": "617683ff-e87a-497a-8048-428a0aa46017",
   "metadata": {},
   "source": [
    "### Get title and content from article"
   ]
  },
  {
   "cell_type": "code",
   "execution_count": 13,
   "id": "070f08bb-6584-40b9-a2cd-bf64c23daa07",
   "metadata": {},
   "outputs": [],
   "source": [
    "url = links[0]\n",
    "response = get(url, headers=headers)\n",
    "soup = BeautifulSoup(response.text)"
   ]
  },
  {
   "cell_type": "code",
   "execution_count": 14,
   "id": "929b753f-e696-4722-a5f2-03f9d76cf9bd",
   "metadata": {
    "scrolled": true
   },
   "outputs": [
    {
     "data": {
      "text/plain": [
       "'Women in tech: Panelist Spotlight – Magdalena Rahn'"
      ]
     },
     "execution_count": 14,
     "metadata": {},
     "output_type": "execute_result"
    }
   ],
   "source": [
    "soup.find('h1', class_='entry-title').text"
   ]
  },
  {
   "cell_type": "code",
   "execution_count": 15,
   "id": "fce10834",
   "metadata": {
    "scrolled": true
   },
   "outputs": [
    {
     "data": {
      "text/plain": [
       "<div class=\"entry-content\">\n",
       "<h2><strong>Women in tech: Panelist Spotlight – Magdalena Rahn</strong></h2>\n",
       "<p>Codeup is hosting a <a href=\"https://www.youtube.com/watch?v=elX8Fm9UIX0\" rel=\"noopener\" target=\"_blank\">Women in Tech Panel</a> in honor of Women’s History Month on March 29th, 2023! To further celebrate, we’d like to spotlight each of our panelists leading up to the discussion to learn a bit about their respective experiences as women in the tech industry!</p>\n",
       "<p><img alt=\"women history spotlight\" class=\"wp-image-19779 alignleft\" decoding=\"async\" height=\"196\" sizes=\"(max-width: 195px) 100vw, 195px\" src=\"https://tribucodeup.wpenginepowered.com/wp-content/uploads/2023/03/382AD943-500C-4B7E-96C0-35009015B02F-298x300.jpeg\" srcset=\"https://tribucodeup.wpenginepowered.com/wp-content/uploads/2023/03/382AD943-500C-4B7E-96C0-35009015B02F-298x300.jpeg 298w, https://tribucodeup.wpenginepowered.com/wp-content/uploads/2023/03/382AD943-500C-4B7E-96C0-35009015B02F-150x150.jpeg 150w, https://tribucodeup.wpenginepowered.com/wp-content/uploads/2023/03/382AD943-500C-4B7E-96C0-35009015B02F-768x773.jpeg 768w, https://tribucodeup.wpenginepowered.com/wp-content/uploads/2023/03/382AD943-500C-4B7E-96C0-35009015B02F-480x483.jpeg 480w, https://tribucodeup.wpenginepowered.com/wp-content/uploads/2023/03/382AD943-500C-4B7E-96C0-35009015B02F.jpeg 809w\" width=\"195\"/></p>\n",
       "<p>Meet Magdalena!</p>\n",
       "<p><a href=\"https://www.linkedin.com/in/magdalena-rahn/\" rel=\"noopener\" target=\"_blank\">Magdalena Rahn</a> is a current Codeup student in a Data Science cohort in San Antonio, Texas. She has a professional background in cross-cultural communications, international business development, the wine industry and journalism. After serving in the US Navy, she decided to complement her professional skill set by attending the Data Science program at Codeup; she is set to graduate in March 2023. Magdalena is fluent in French, Bulgarian, Chinese-Mandarin, Spanish and Italian.</p>\n",
       "<p>We asked Magdalena how Codeup impacted her career, and she replied “Codeup has provided a solid foundation in analytical processes, programming and data science methods, and it’s been an encouragement to have such supportive instructors and wonderful classmates.”</p>\n",
       "<p>Don’t forget to tune in on March 29th to sit in on an insightful conversation with Magdalena.</p>\n",
       "</div>"
      ]
     },
     "execution_count": 15,
     "metadata": {},
     "output_type": "execute_result"
    }
   ],
   "source": [
    "soup.find('div', class_='entry-content')"
   ]
  },
  {
   "cell_type": "code",
   "execution_count": 16,
   "id": "8a73152e-5a3f-4c95-bf53-50c3b64ca837",
   "metadata": {
    "scrolled": false
   },
   "outputs": [
    {
     "data": {
      "text/plain": [
       "'Women in tech: Panelist Spotlight – Magdalena Rahn\\nCodeup is hosting a Women in Tech Panel in honor of Women’s History Month on March 29th, 2023! To further celebrate, we’d like to spotlight each of our panelists leading up to the discussion to learn a bit about their respective experiences as women in the tech industry!\\n\\nMeet Magdalena!\\nMagdalena Rahn is a current Codeup student in a Data Science cohort in San Antonio, Texas. She has a professional background in cross-cultural communications, international business development, the wine industry and journalism. After serving in the US Navy, she decided to complement her professional skill set by attending the Data Science program at Codeup; she is set to graduate in March 2023. Magdalena is fluent in French, Bulgarian, Chinese-Mandarin, Spanish and Italian.\\nWe asked Magdalena how Codeup impacted her career, and she replied “Codeup has provided a solid foundation in analytical processes, programming and data science methods, and it’s been an encouragement to have such supportive instructors and wonderful classmates.”\\nDon’t forget to tune in on March 29th to sit in on an insightful conversation with Magdalena.'"
      ]
     },
     "execution_count": 16,
     "metadata": {},
     "output_type": "execute_result"
    }
   ],
   "source": [
    "soup.find('div', class_='entry-content').text.strip()"
   ]
  },
  {
   "cell_type": "markdown",
   "id": "6a51ec5f",
   "metadata": {},
   "source": [
    "### Get rid of the title in the content"
   ]
  },
  {
   "cell_type": "code",
   "execution_count": 17,
   "id": "ad746aa3",
   "metadata": {},
   "outputs": [],
   "source": [
    "title = soup.find('h1', class_='entry-title').text"
   ]
  },
  {
   "cell_type": "code",
   "execution_count": 18,
   "id": "b3a07042",
   "metadata": {},
   "outputs": [],
   "source": [
    "content = soup.find('div', class_='entry-content').text.strip()"
   ]
  },
  {
   "cell_type": "code",
   "execution_count": 19,
   "id": "20332bf9",
   "metadata": {
    "scrolled": true
   },
   "outputs": [
    {
     "data": {
      "text/plain": [
       "'\\nCodeup is hosting a Women in Tech Panel in honor of Women’s History Month on March 29th, 2023! To further celebrate, we’d like to spotlight each of our panelists leading up to the discussion to learn a bit about their respective experiences as women in the tech industry!\\n\\nMeet Magdalena!\\nMagdalena Rahn is a current Codeup student in a Data Science cohort in San Antonio, Texas. She has a professional background in cross-cultural communications, international business development, the wine industry and journalism. After serving in the US Navy, she decided to complement her professional skill set by attending the Data Science program at Codeup; she is set to graduate in March 2023. Magdalena is fluent in French, Bulgarian, Chinese-Mandarin, Spanish and Italian.\\nWe asked Magdalena how Codeup impacted her career, and she replied “Codeup has provided a solid foundation in analytical processes, programming and data science methods, and it’s been an encouragement to have such supportive instructors and wonderful classmates.”\\nDon’t forget to tune in on March 29th to sit in on an insightful conversation with Magdalena.'"
      ]
     },
     "execution_count": 19,
     "metadata": {},
     "output_type": "execute_result"
    }
   ],
   "source": [
    "content = content.replace(title, '')\n",
    "content"
   ]
  },
  {
   "cell_type": "markdown",
   "id": "6dd601ed-2f70-4954-87ed-58a1403537f3",
   "metadata": {},
   "source": [
    "### Put it together"
   ]
  },
  {
   "cell_type": "code",
   "execution_count": 20,
   "id": "c085cc2a-6419-4693-adea-d7c292dcbf62",
   "metadata": {},
   "outputs": [],
   "source": [
    "url = 'https://codeup.com/blog/'\n",
    "headers = {'User-Agent': 'Codeup Data Science'}\n",
    "response = get(url, headers=headers)\n",
    "\n",
    "soup = BeautifulSoup(response.content, 'html.parser')\n",
    "\n",
    "links = [link['href'] for link in soup.select('.more-link')]\n",
    "\n",
    "articles = []\n",
    "\n",
    "for url in links:\n",
    "    \n",
    "    url_response = get(url, headers=headers)\n",
    "    soup = BeautifulSoup(url_response.text)\n",
    "    \n",
    "    title = soup.find('h1', class_='entry-title').text\n",
    "    content = soup.find('div', class_='entry-content').text.strip()\n",
    "    content = content.replace(title, '')\n",
    "\n",
    "    \n",
    "    article_dict = {\n",
    "        'title': title,\n",
    "        'content': content\n",
    "    }\n",
    "    \n",
    "    articles.append(article_dict)"
   ]
  },
  {
   "cell_type": "code",
   "execution_count": 21,
   "id": "71386668-2215-464e-8a94-8533ee0e0379",
   "metadata": {},
   "outputs": [
    {
     "data": {
      "text/plain": [
       "[{'title': 'Women in tech: Panelist Spotlight – Magdalena Rahn',\n",
       "  'content': '\\nCodeup is hosting a Women in Tech Panel in honor of Women’s History Month on March 29th, 2023! To further celebrate, we’d like to spotlight each of our panelists leading up to the discussion to learn a bit about their respective experiences as women in the tech industry!\\n\\nMeet Magdalena!\\nMagdalena Rahn is a current Codeup student in a Data Science cohort in San Antonio, Texas. She has a professional background in cross-cultural communications, international business development, the wine industry and journalism. After serving in the US Navy, she decided to complement her professional skill set by attending the Data Science program at Codeup; she is set to graduate in March 2023. Magdalena is fluent in French, Bulgarian, Chinese-Mandarin, Spanish and Italian.\\nWe asked Magdalena how Codeup impacted her career, and she replied “Codeup has provided a solid foundation in analytical processes, programming and data science methods, and it’s been an encouragement to have such supportive instructors and wonderful classmates.”\\nDon’t forget to tune in on March 29th to sit in on an insightful conversation with Magdalena.'},\n",
       " {'title': 'Women in tech: Panelist Spotlight – Rachel Robbins-Mayhill',\n",
       "  'content': '\\nCodeup is hosting a Women in Tech Panel in honor of Women’s History Month on March 29th, 2023! To further celebrate, we’d like to spotlight each of our panelists leading up to the discussion to learn a bit about their respective experiences as women in the tech industry! Meet Rachel!\\n\\nRachel Robbins-Mayhill is a Decision Science Analyst I in San Antonio, Texas. Rachel has had a varied career that includes counseling, teaching, training, community development, and military operations. Her focus has always been on assessing needs, identifying solutions, and educating individuals and groups on aligning needs and solutions in different contexts. Rachel’s passion for data science stems from her belief that data is a powerful tool for communicating patterns that can lead to hope and growth in the future.\\nIn June 2022, Rachel graduated from Codeup’s Innis cohort, where she honed her skills in data science. Shortly after, she started working as a Data Science Technical Writer with Apex Systems as a Contractor for USAA in July 2022. Her unconventional role allowed her to understand where her skills could be best utilized to support USAA in a non-contract role.\\nRachel recently joined USAA’s Data Science Delivery team as a Decision Science Analyst I in February 2023. The team is focused on delivering machine learning models for fraud prevention, and Rachel’s particular role centers around providing strategic process solutions for the team in collaboration with Operational and Model Risk components.\\nIn addition to her career, Rachel is currently pursuing a master’s degree in Applied Data Science from Syracuse University, further expanding her knowledge and skills in the field. Rachel is passionate about collaborating with individuals who share her belief in the potential of others and strive to achieve growth through logical, informed action. She welcomes LinkedIn connections and is excited about supporting the network of CodeUp alumni!\\nWe asked Rachel how Codeup impacted her career, and she replied “Codeup delivered a comprehensive education in all facets of the data science pipeline, laying a strong foundation for me to build upon. Through repeated hands-on practice, I developed a reliable process that was immediately applicable in my job. Collaborative group projects were instrumental in helping me hone my skills in project management, allowing me to navigate complex data science projects with comfortability. Thanks to this invaluable experience, I was able to make significant strides in my career within just six months of graduating from Codeup.”\\nDon’t forget to tune in on March 29th to sit in on an insightful conversation.'},\n",
       " {'title': 'Women in Tech: Panelist Spotlight – Sarah Mellor',\n",
       "  'content': 'Women in tech: Panelist Spotlight – Sarah Mellor\\xa0\\nCodeup is hosting a Women in Tech Panel in honor of Women’s History Month on March 29th, 2023! To further celebrate, we’d like to spotlight each of our panelists leading up to the discussion to learn a bit about their respective experiences as women in the tech industry!\\nMeet Sarah!\\nSarah Mellor currently works as the Director of People Operations. She joined Codeup four and a half years ago as an Admissions Manager. She went on to build out and lead the Marketing and Admissions team, while picking up People Ops tasks and projects here and there until moving over to lead the People Ops team two years ago. Prior to Codeup, she worked at education-focused non-profits in Washington, DC and Boulder, Colorado. She graduated from Wake Forest University.\\nWe asked Sarah how Codeup has impacted her career, and her response was “I have absolutely loved having the privilege to grow alongside Codeup. In my time here across multiple different roles and departments, I’ve seen a lot of change. The consistent things have always been the high quality of passionate and hardworking people I get to work with; the impactful mission we get to work on; and the inspiring students who trust us with their career change.”\\nDon’t forget to tune in on March 29th to sit in on an insightful conversation.'},\n",
       " {'title': 'Women in Tech: Panelist Spotlight – Madeleine Capper',\n",
       "  'content': 'Women in tech: Panelist Spotlight – Madeleine Capper\\nCodeup is hosting a Women in Tech Panel in honor of Women’s History Month on March 29th, 2023! To further celebrate, we’d like to spotlight each of our panelists leading up to the discussion to learn a bit about their respective experiences as women in the tech industry!\\nMeet Madeleine!\\nMadeleine Capper is a Data Scientist in San Antonio, Texas. A long-standing San Antonio resident, she studied mathematics at the University of Texas San Antonio and has worked as a Data Scientist for Booz Allen Hamilton. Madeleine currently teaches Data Science at Codeup, where she works daily with burgeoning data professionals to help them actualize their career aspirations through technical education.\\nMadeleine attended Codeup as a student in early 2019 as a pupil in the very first Codeup Data Science cohort. The program proved immediately effective and she was the first student to obtain a data career out of the program. After working at Booz Allen Hamilton, Madeleine’s passion for education in conjunction with her appreciation for Codeup’s capacity for transformative life change brought her back to the institution in an instructional capacity, where she has been teaching for two years.\\nDon’t forget to tune in on March 29th to sit in on an insightful conversation.'},\n",
       " {'title': 'Black Excellence in Tech: Panelist Spotlight – Wilmarie De La Cruz Mejia',\n",
       "  'content': 'Black excellence in tech: Panelist Spotlight – Wilmarie De La Cruz Mejia\\n\\nCodeup is hosting a Black Excellence in Tech Panel in honor of Black History Month on February 22, 2023! To further celebrate, we’d like to spotlight each of our panelists leading up to the discussion to learn a bit about their respective experiences as black leaders in the tech industry!\\xa0\\xa0\\nMeet Wilmarie!\\nWilmarie De\\xa0La Cruz Mejia is a current Codeup student on the path to becoming a Full-Stack Web Developer at our Dallas, TX campus.\\xa0\\nWilmarie is a veteran expanding her knowledge of programming languages and technologies on her journey with Codeup.\\xa0\\nWe asked Wilmarie to share more about her experience at Codeup. She shares, “I was able to meet other people who were passionate about coding and be in a positive learning environment.”\\nWe hope you can join us on February 22nd to sit in on an insightful conversation with Wilmarie and all of our panelists!'}]"
      ]
     },
     "execution_count": 21,
     "metadata": {},
     "output_type": "execute_result"
    }
   ],
   "source": [
    "articles[0:5]"
   ]
  },
  {
   "cell_type": "markdown",
   "id": "113b386d",
   "metadata": {},
   "source": [
    "### We still have titles in the content due to mismatched capitalization!"
   ]
  },
  {
   "cell_type": "code",
   "execution_count": 22,
   "id": "e4e2852a",
   "metadata": {},
   "outputs": [],
   "source": [
    "title = soup.find('h1', class_='entry-title').text"
   ]
  },
  {
   "cell_type": "code",
   "execution_count": 23,
   "id": "e815027b",
   "metadata": {},
   "outputs": [],
   "source": [
    "content = soup.find('div', class_='entry-content').text.strip()"
   ]
  },
  {
   "cell_type": "code",
   "execution_count": 24,
   "id": "7b3c087d",
   "metadata": {},
   "outputs": [
    {
     "data": {
      "text/plain": [
       "'Black excellence in tech: Panelist Spotlight – Stephanie Jones\\nCodeup is hosting our second Black Excellence in Tech Panel in honor of Black History Month on February 22, 2023! To further celebrate, we’d like to spotlight each of our panelists leading up to the discussion to learn a bit about their respective experiences as black leaders in the tech industry!\\xa0\\xa0\\nMeet Stephanie!\\n\\nStephanie Jones is an Alumna of Codeup’s Data Science Program (March 2022) and currently works as a Business Intelligence Developer for Victory Capital, a global investment management firm based in San Antonio, TX.\\xa0\\nStephanie is passionate about visual storytelling and, as a late “tech bloomer,” is also an advocate for equitable access and educational opportunities in technology for underserved communities.\\nWe asked Stephanie to share more about her experience at Codeup. She shares, “I have always been a creative and Codeup opened up a world of possibilities by exposing me to advanced technical concepts and career opportunities.” Stephanie also speaks to the community of support in the program and beyond.\\xa0 “The network and support from instructors, mentors, and peers began during the application phase (which was intense), before the program even started, and has carried over even after completing the program and entering into the workforce.”\\nWe hope you can join us on February 22nd to sit in on an insightful conversation with Stephanie and all of our panelists!'"
      ]
     },
     "execution_count": 24,
     "metadata": {},
     "output_type": "execute_result"
    }
   ],
   "source": [
    "content"
   ]
  },
  {
   "cell_type": "code",
   "execution_count": 25,
   "id": "ad93d118",
   "metadata": {},
   "outputs": [
    {
     "data": {
      "text/plain": [
       "'\\nCodeup is hosting our second Black Excellence in Tech Panel in honor of Black History Month on February 22, 2023! To further celebrate, we’d like to spotlight each of our panelists leading up to the discussion to learn a bit about their respective experiences as black leaders in the tech industry!\\xa0\\xa0\\nMeet Stephanie!\\n\\nStephanie Jones is an Alumna of Codeup’s Data Science Program (March 2022) and currently works as a Business Intelligence Developer for Victory Capital, a global investment management firm based in San Antonio, TX.\\xa0\\nStephanie is passionate about visual storytelling and, as a late “tech bloomer,” is also an advocate for equitable access and educational opportunities in technology for underserved communities.\\nWe asked Stephanie to share more about her experience at Codeup. She shares, “I have always been a creative and Codeup opened up a world of possibilities by exposing me to advanced technical concepts and career opportunities.” Stephanie also speaks to the community of support in the program and beyond.\\xa0 “The network and support from instructors, mentors, and peers began during the application phase (which was intense), before the program even started, and has carried over even after completing the program and entering into the workforce.”\\nWe hope you can join us on February 22nd to sit in on an insightful conversation with Stephanie and all of our panelists!'"
      ]
     },
     "execution_count": 25,
     "metadata": {},
     "output_type": "execute_result"
    }
   ],
   "source": [
    "compiled = re.compile(re.escape(title), re.IGNORECASE)\n",
    "content = compiled.sub('', content)\n",
    "content"
   ]
  },
  {
   "cell_type": "code",
   "execution_count": 26,
   "id": "57449aad",
   "metadata": {},
   "outputs": [],
   "source": [
    "url = 'https://codeup.com/blog/'\n",
    "headers = {'User-Agent': 'Codeup Data Science'}\n",
    "response = get(url, headers=headers)\n",
    "\n",
    "soup = BeautifulSoup(response.content, 'html.parser')\n",
    "\n",
    "links = [link['href'] for link in soup.select('.more-link')]\n",
    "\n",
    "articles = []\n",
    "\n",
    "for url in links:\n",
    "    \n",
    "    url_response = get(url, headers=headers)\n",
    "    soup = BeautifulSoup(url_response.text)\n",
    "    \n",
    "    title = soup.find('h1', class_='entry-title').text\n",
    "    content = soup.find('div', class_='entry-content').text.strip()\n",
    "    compiled = re.compile(re.escape(title), re.IGNORECASE)\n",
    "    content = compiled.sub('', content)\n",
    "    \n",
    "\n",
    "    \n",
    "    article_dict = {\n",
    "        'title': title,\n",
    "        'content': content\n",
    "    }\n",
    "    \n",
    "    articles.append(article_dict)"
   ]
  },
  {
   "cell_type": "code",
   "execution_count": 27,
   "id": "bb21ef9d",
   "metadata": {},
   "outputs": [
    {
     "data": {
      "text/plain": [
       "[{'title': 'Women in tech: Panelist Spotlight – Magdalena Rahn',\n",
       "  'content': '\\nCodeup is hosting a Women in Tech Panel in honor of Women’s History Month on March 29th, 2023! To further celebrate, we’d like to spotlight each of our panelists leading up to the discussion to learn a bit about their respective experiences as women in the tech industry!\\n\\nMeet Magdalena!\\nMagdalena Rahn is a current Codeup student in a Data Science cohort in San Antonio, Texas. She has a professional background in cross-cultural communications, international business development, the wine industry and journalism. After serving in the US Navy, she decided to complement her professional skill set by attending the Data Science program at Codeup; she is set to graduate in March 2023. Magdalena is fluent in French, Bulgarian, Chinese-Mandarin, Spanish and Italian.\\nWe asked Magdalena how Codeup impacted her career, and she replied “Codeup has provided a solid foundation in analytical processes, programming and data science methods, and it’s been an encouragement to have such supportive instructors and wonderful classmates.”\\nDon’t forget to tune in on March 29th to sit in on an insightful conversation with Magdalena.'},\n",
       " {'title': 'Women in tech: Panelist Spotlight – Rachel Robbins-Mayhill',\n",
       "  'content': '\\nCodeup is hosting a Women in Tech Panel in honor of Women’s History Month on March 29th, 2023! To further celebrate, we’d like to spotlight each of our panelists leading up to the discussion to learn a bit about their respective experiences as women in the tech industry! Meet Rachel!\\n\\nRachel Robbins-Mayhill is a Decision Science Analyst I in San Antonio, Texas. Rachel has had a varied career that includes counseling, teaching, training, community development, and military operations. Her focus has always been on assessing needs, identifying solutions, and educating individuals and groups on aligning needs and solutions in different contexts. Rachel’s passion for data science stems from her belief that data is a powerful tool for communicating patterns that can lead to hope and growth in the future.\\nIn June 2022, Rachel graduated from Codeup’s Innis cohort, where she honed her skills in data science. Shortly after, she started working as a Data Science Technical Writer with Apex Systems as a Contractor for USAA in July 2022. Her unconventional role allowed her to understand where her skills could be best utilized to support USAA in a non-contract role.\\nRachel recently joined USAA’s Data Science Delivery team as a Decision Science Analyst I in February 2023. The team is focused on delivering machine learning models for fraud prevention, and Rachel’s particular role centers around providing strategic process solutions for the team in collaboration with Operational and Model Risk components.\\nIn addition to her career, Rachel is currently pursuing a master’s degree in Applied Data Science from Syracuse University, further expanding her knowledge and skills in the field. Rachel is passionate about collaborating with individuals who share her belief in the potential of others and strive to achieve growth through logical, informed action. She welcomes LinkedIn connections and is excited about supporting the network of CodeUp alumni!\\nWe asked Rachel how Codeup impacted her career, and she replied “Codeup delivered a comprehensive education in all facets of the data science pipeline, laying a strong foundation for me to build upon. Through repeated hands-on practice, I developed a reliable process that was immediately applicable in my job. Collaborative group projects were instrumental in helping me hone my skills in project management, allowing me to navigate complex data science projects with comfortability. Thanks to this invaluable experience, I was able to make significant strides in my career within just six months of graduating from Codeup.”\\nDon’t forget to tune in on March 29th to sit in on an insightful conversation.'},\n",
       " {'title': 'Women in Tech: Panelist Spotlight – Sarah Mellor',\n",
       "  'content': '\\xa0\\nCodeup is hosting a Women in Tech Panel in honor of Women’s History Month on March 29th, 2023! To further celebrate, we’d like to spotlight each of our panelists leading up to the discussion to learn a bit about their respective experiences as women in the tech industry!\\nMeet Sarah!\\nSarah Mellor currently works as the Director of People Operations. She joined Codeup four and a half years ago as an Admissions Manager. She went on to build out and lead the Marketing and Admissions team, while picking up People Ops tasks and projects here and there until moving over to lead the People Ops team two years ago. Prior to Codeup, she worked at education-focused non-profits in Washington, DC and Boulder, Colorado. She graduated from Wake Forest University.\\nWe asked Sarah how Codeup has impacted her career, and her response was “I have absolutely loved having the privilege to grow alongside Codeup. In my time here across multiple different roles and departments, I’ve seen a lot of change. The consistent things have always been the high quality of passionate and hardworking people I get to work with; the impactful mission we get to work on; and the inspiring students who trust us with their career change.”\\nDon’t forget to tune in on March 29th to sit in on an insightful conversation.'},\n",
       " {'title': 'Women in Tech: Panelist Spotlight – Madeleine Capper',\n",
       "  'content': '\\nCodeup is hosting a Women in Tech Panel in honor of Women’s History Month on March 29th, 2023! To further celebrate, we’d like to spotlight each of our panelists leading up to the discussion to learn a bit about their respective experiences as women in the tech industry!\\nMeet Madeleine!\\nMadeleine Capper is a Data Scientist in San Antonio, Texas. A long-standing San Antonio resident, she studied mathematics at the University of Texas San Antonio and has worked as a Data Scientist for Booz Allen Hamilton. Madeleine currently teaches Data Science at Codeup, where she works daily with burgeoning data professionals to help them actualize their career aspirations through technical education.\\nMadeleine attended Codeup as a student in early 2019 as a pupil in the very first Codeup Data Science cohort. The program proved immediately effective and she was the first student to obtain a data career out of the program. After working at Booz Allen Hamilton, Madeleine’s passion for education in conjunction with her appreciation for Codeup’s capacity for transformative life change brought her back to the institution in an instructional capacity, where she has been teaching for two years.\\nDon’t forget to tune in on March 29th to sit in on an insightful conversation.'},\n",
       " {'title': 'Black Excellence in Tech: Panelist Spotlight – Wilmarie De La Cruz Mejia',\n",
       "  'content': '\\n\\nCodeup is hosting a Black Excellence in Tech Panel in honor of Black History Month on February 22, 2023! To further celebrate, we’d like to spotlight each of our panelists leading up to the discussion to learn a bit about their respective experiences as black leaders in the tech industry!\\xa0\\xa0\\nMeet Wilmarie!\\nWilmarie De\\xa0La Cruz Mejia is a current Codeup student on the path to becoming a Full-Stack Web Developer at our Dallas, TX campus.\\xa0\\nWilmarie is a veteran expanding her knowledge of programming languages and technologies on her journey with Codeup.\\xa0\\nWe asked Wilmarie to share more about her experience at Codeup. She shares, “I was able to meet other people who were passionate about coding and be in a positive learning environment.”\\nWe hope you can join us on February 22nd to sit in on an insightful conversation with Wilmarie and all of our panelists!'}]"
      ]
     },
     "execution_count": 27,
     "metadata": {},
     "output_type": "execute_result"
    }
   ],
   "source": [
    "articles[0:5]"
   ]
  },
  {
   "cell_type": "markdown",
   "id": "ce2d5b03-9208-4a17-9ef4-42cde93e6e06",
   "metadata": {},
   "source": [
    "### Put in df"
   ]
  },
  {
   "cell_type": "code",
   "execution_count": 28,
   "id": "a13cd2b4-3c17-4c0a-adab-1e40a578c280",
   "metadata": {},
   "outputs": [
    {
     "data": {
      "text/html": [
       "<div>\n",
       "<style scoped>\n",
       "    .dataframe tbody tr th:only-of-type {\n",
       "        vertical-align: middle;\n",
       "    }\n",
       "\n",
       "    .dataframe tbody tr th {\n",
       "        vertical-align: top;\n",
       "    }\n",
       "\n",
       "    .dataframe thead th {\n",
       "        text-align: right;\n",
       "    }\n",
       "</style>\n",
       "<table border=\"1\" class=\"dataframe\">\n",
       "  <thead>\n",
       "    <tr style=\"text-align: right;\">\n",
       "      <th></th>\n",
       "      <th>title</th>\n",
       "      <th>content</th>\n",
       "    </tr>\n",
       "  </thead>\n",
       "  <tbody>\n",
       "    <tr>\n",
       "      <th>0</th>\n",
       "      <td>Women in tech: Panelist Spotlight – Magdalena ...</td>\n",
       "      <td>\\nCodeup is hosting a Women in Tech Panel in h...</td>\n",
       "    </tr>\n",
       "    <tr>\n",
       "      <th>1</th>\n",
       "      <td>Women in tech: Panelist Spotlight – Rachel Rob...</td>\n",
       "      <td>\\nCodeup is hosting a Women in Tech Panel in h...</td>\n",
       "    </tr>\n",
       "    <tr>\n",
       "      <th>2</th>\n",
       "      <td>Women in Tech: Panelist Spotlight – Sarah Mellor</td>\n",
       "      <td>\\nCodeup is hosting a Women in Tech Panel in ...</td>\n",
       "    </tr>\n",
       "    <tr>\n",
       "      <th>3</th>\n",
       "      <td>Women in Tech: Panelist Spotlight – Madeleine ...</td>\n",
       "      <td>\\nCodeup is hosting a Women in Tech Panel in h...</td>\n",
       "    </tr>\n",
       "    <tr>\n",
       "      <th>4</th>\n",
       "      <td>Black Excellence in Tech: Panelist Spotlight –...</td>\n",
       "      <td>\\n\\nCodeup is hosting a Black Excellence in Te...</td>\n",
       "    </tr>\n",
       "    <tr>\n",
       "      <th>5</th>\n",
       "      <td>Black excellence in tech: Panelist Spotlight –...</td>\n",
       "      <td>\\nCodeup is hosting our second Black Excellenc...</td>\n",
       "    </tr>\n",
       "  </tbody>\n",
       "</table>\n",
       "</div>"
      ],
      "text/plain": [
       "                                               title  \\\n",
       "0  Women in tech: Panelist Spotlight – Magdalena ...   \n",
       "1  Women in tech: Panelist Spotlight – Rachel Rob...   \n",
       "2   Women in Tech: Panelist Spotlight – Sarah Mellor   \n",
       "3  Women in Tech: Panelist Spotlight – Madeleine ...   \n",
       "4  Black Excellence in Tech: Panelist Spotlight –...   \n",
       "5  Black excellence in tech: Panelist Spotlight –...   \n",
       "\n",
       "                                             content  \n",
       "0  \\nCodeup is hosting a Women in Tech Panel in h...  \n",
       "1  \\nCodeup is hosting a Women in Tech Panel in h...  \n",
       "2   \\nCodeup is hosting a Women in Tech Panel in ...  \n",
       "3  \\nCodeup is hosting a Women in Tech Panel in h...  \n",
       "4  \\n\\nCodeup is hosting a Black Excellence in Te...  \n",
       "5  \\nCodeup is hosting our second Black Excellenc...  "
      ]
     },
     "execution_count": 28,
     "metadata": {},
     "output_type": "execute_result"
    }
   ],
   "source": [
    "blog_article_df = pd.DataFrame(articles)\n",
    "blog_article_df"
   ]
  },
  {
   "cell_type": "code",
   "execution_count": 29,
   "id": "ac91ae3a-cf01-49c0-bd48-679aa8b17853",
   "metadata": {},
   "outputs": [],
   "source": [
    "blog_article_df.to_csv('blog_articles.csv', index=False)"
   ]
  },
  {
   "cell_type": "markdown",
   "id": "bca4f940-a4d0-4137-a50d-eb2cdc33d2bb",
   "metadata": {},
   "source": [
    "## News Articles\n",
    "\n",
    "We will now be scraping text data from inshorts, a website that provides a brief overview of many different topics.\n",
    "\n",
    "Write a function that scrapes the news articles for the following topics:\n",
    "\n",
    "* Business\n",
    "* Sports\n",
    "* Technology\n",
    "* Entertainment\n",
    "\n",
    "The end product of this should be a function named get_news_articles that returns a list of dictionaries, where each dictionary has this shape:\n",
    "\n",
    "```python\n",
    "{\n",
    "    'title': 'The article title',\n",
    "    'content': 'The article content',\n",
    "    'category': 'business' # for example\n",
    "}\n",
    "```"
   ]
  },
  {
   "cell_type": "code",
   "execution_count": 30,
   "id": "ba22e38e-028b-4597-a814-8421d44c04fa",
   "metadata": {},
   "outputs": [],
   "source": [
    "url = 'https://inshorts.com/en/read'\n",
    "response = get(url)\n",
    "soup = BeautifulSoup(response.content, 'html.parser')"
   ]
  },
  {
   "cell_type": "markdown",
   "id": "9d546e96-5e96-488a-baff-54180c946cd6",
   "metadata": {},
   "source": [
    "### Get title"
   ]
  },
  {
   "cell_type": "code",
   "execution_count": 31,
   "id": "5c36a5de",
   "metadata": {},
   "outputs": [
    {
     "data": {
      "text/plain": [
       "[<span itemprop=\"headline\">Petition filed in HC challenging 'The Kerala Story' ban in Bengal</span>,\n",
       " <span itemprop=\"headline\">Kriti Sanon wears saree with 24-carat gold print, Abu Jani &amp; Sandeep Khosla share pics</span>,\n",
       " <span itemprop=\"headline\">Haryana CM makes 'The Kerala Story' tax-free in the state </span>,\n",
       " <span itemprop=\"headline\">It seems he bats on a computer: Sourav Ganguly on Suryakumar Yadav's 83(35) vs RCB</span>,\n",
       " <span itemprop=\"headline\">CSK defend their lowest total in IPL 2023, win 7th match in a row vs DC in Chennai</span>,\n",
       " <span itemprop=\"headline\">MS Dhoni mock-hits Deepak Chahar, frightens him after toss; video goes viral</span>,\n",
       " <span itemprop=\"headline\">BCCI projected to earn ₹1,885 crore per year in ICC's new finance model: Report</span>,\n",
       " <span itemprop=\"headline\">Sergio Busquets leaving Barcelona after 18 years amid talks over Saudi move</span>,\n",
       " <span itemprop=\"headline\">Which Indian unicorns saw valuation markdowns in recent times?</span>,\n",
       " <span itemprop=\"headline\">Anurag shares post amid controversy around The Kerala Story, says 'to ban it is wrong'</span>,\n",
       " <span itemprop=\"headline\">6-yr-old forced to perform sex act by 1st grade students while being filmed in US</span>,\n",
       " <span itemprop=\"headline\">Entire trial was a mockery of judiciary system: Jiah Khan's mother</span>,\n",
       " <span itemprop=\"headline\">My first job was to deliver fish and prawns: Twinkle Khanna</span>,\n",
       " <span itemprop=\"headline\">I would sell my house to sit down and watch SKY bat daily: Swann</span>,\n",
       " <span itemprop=\"headline\">Just not working for Rohit, what happens if Tilak is fit: Doull</span>,\n",
       " <span itemprop=\"headline\">OpenAI CEO to testify in US Senate for 1st time next week over AI</span>,\n",
       " <span itemprop=\"headline\">Fake Paytm Twitter accounts target users looking for customer care</span>,\n",
       " <span itemprop=\"headline\">Confident that people of K'taka will bless BJP: BJP's Rathore</span>,\n",
       " <span itemprop=\"headline\">NY Times criticised for interview of convicted Theranos Founder</span>,\n",
       " <span itemprop=\"headline\">India's entrepreneurial spirit impressive: Walmart's senior exec</span>,\n",
       " <span itemprop=\"headline\">Woman forced to do 150 sit-ups by in-laws in Pune, 5 booked</span>,\n",
       " <span itemprop=\"headline\">Stop looking for China fix: EAM on how Indian businesses can grow</span>,\n",
       " <span itemprop=\"headline\">Will vigorously defend ourselves against Go First's claims: P&amp;W</span>,\n",
       " <span itemprop=\"headline\">Godrej Consumer Products to raise ₹5,000 crore via debentures</span>,\n",
       " <span itemprop=\"headline\">US annual inflation slows last month to lowest level in 2 years</span>]"
      ]
     },
     "execution_count": 31,
     "metadata": {},
     "output_type": "execute_result"
    }
   ],
   "source": [
    "soup.find_all('span', itemprop='headline')"
   ]
  },
  {
   "cell_type": "code",
   "execution_count": 32,
   "id": "a06b3db9-f5b1-401c-9f56-bddb9128129e",
   "metadata": {
    "scrolled": true
   },
   "outputs": [
    {
     "data": {
      "text/plain": [
       "\"Petition filed in HC challenging 'The Kerala Story' ban in Bengal\""
      ]
     },
     "execution_count": 32,
     "metadata": {},
     "output_type": "execute_result"
    }
   ],
   "source": [
    "soup.find_all('span', itemprop='headline')[0].text"
   ]
  },
  {
   "cell_type": "markdown",
   "id": "f3e5e660-8128-47f3-9cdd-1abdce0c8455",
   "metadata": {},
   "source": [
    "### Get content"
   ]
  },
  {
   "cell_type": "code",
   "execution_count": 33,
   "id": "ad0ae53a",
   "metadata": {},
   "outputs": [
    {
     "data": {
      "text/plain": [
       "[<div itemprop=\"articleBody\">After West Bengal CM Mamata Banerjee banned the movie 'The Kerala Story' on Monday, a public interest litigation (PIL) has been filed against the same in Calcutta High Court. The petitioner on Wednesday told the court that the state government's decision is against the right to freedom of speech. The case will be heard by the court on May 15.</div>,\n",
       " <div itemprop=\"articleBody\">Kriti Sanon wore a saree by Abu Jani and Sandeep Khosla for an event. Sharing pictures, the designers wrote, \"Kriti Sanon is a vision in a double-drape saree featuring a mix off-white khadi saree with zardozi border and a vintage Kerala cotton saree with 24-carat gold Khadi block print.\" \"A Diva...so good in Indian wear,\" an Instagram user commented.</div>,\n",
       " <div itemprop=\"articleBody\">Haryana CM Manohar Lal Khattar on Wednesday said that 'The Kerala Story' has been made tax-free in the state. This comes after the movie was made tax-free in other BJP ruled states, including UP, MP and Uttarakhand. However, the movie was banned in West Bengal. It was done to avoid incidents of hatred in the state, CM Mamata Banerjee said. </div>,\n",
       " <div itemprop=\"articleBody\">Ex-BCCI President Sourav Ganguly took to Twitter to praise MI's Suryakumar Yadav for his 35-ball 83-run knock against RCB. \"Suryakumar Yadav is the best T20 player in the world...It seems he bats on a computer,\" Ganguly said. Suryakumar slammed seven fours and six sixes against RCB on Tuesday. </div>,\n",
       " <div itemprop=\"articleBody\">Chennai Super Kings (CSK) defeated Delhi Capitals (DC) by 27 runs in their IPL 2023 match on Wednesday. CSK defended their lowest total in IPL 2023. They put up a total of 167/8 and restricted DC to 140/8. CSK have now won seven matches in a row against DC at the Chepauk Stadium in Chennai.</div>,\n",
       " <div itemprop=\"articleBody\">CSK captain MS Dhoni mock-hit fast bowler Deepak Chahar after toss, with a video going viral on social media. In the video, Chahar can be seen getting frightened by Dhoni's gesture. Reacting to the video, a fan tweeted, \"Look like Dhoni likes to toy around Deepak Chahar always.\" Another fan wrote, \"Funny Mahi.\"</div>,\n",
       " <div itemprop=\"articleBody\">BCCI is projected to earn around $230 million (around ₹1,885 crore) per year in ICC's new finance model, as per ESPNcricinfo. The Indian board will reportedly take home 40% of the ICC's net surplus earnings from its next four-year commercial cycle. The next-highest earner, England and Wales Cricket Board (ECB), could earn $41.33 million (₹340 crore) per year, report said.</div>,\n",
       " <div itemprop=\"articleBody\">Barcelona captain Sergio Busquets will leave the club this summer after an 18-year association. The 34-year-old midfielder had joined Barcelona's youth team in 2005 and made his first-team debut in 2008. The announcement of his exit comes amid talks over a move to Saudi Arabia. Busquets played over 700 matches for Barcelona, winning eight La Liga titles.</div>,\n",
       " <div itemprop=\"articleBody\">Multiple Indian unicorns have seen a markdown in their valuations by private investors. On Wednesday, it was reported that Vanguard marked down Ola's valuation by 35% to $4.8 billion. A couple of days ago, Swiggy's valuation was reported to be halved by Invesco, to $5.5 billion. Earlier, the world's biggest asset management company BlackRock slashed BYJU'S valuation by 50% internally.</div>,\n",
       " <div itemprop=\"articleBody\">Filmmaker Anurag Kashyap took to Twitter to share a cryptic post amid the controversy surrounding the film 'The Kerala Story'. Without naming the film, he wrote, \"You agree with the film or not, be it propaganda, counter propaganda, offensive or not, to ban it is just wrong.\" Kashyap also shared a quote by French philosopher Voltaire.</div>,\n",
       " <div itemprop=\"articleBody\">First-graders have been accused of allegedly forcing a 6-year-old girl to perform a sex act in a school in Texas, US. She was reportedly forced to perform the act on another child after being pulled under a table, while she was being filmed on an iPad. The incident is said to have taken place when teacher was present in classroom.</div>,\n",
       " <div itemprop=\"articleBody\">Days after a CBI court acquitted actor Sooraj Pancholi of abatement charges in Jiah Khan's death case, her mother Rabia reacted to the decision and called the entire trial a \"mockery of the judiciary system\". \"Sooraj Pancholi was accused of the wrong crime to start with,\" she said. \"All the evidence...that pointed to murder...was never produced before the...court,\" Rabia alleged.</div>,\n",
       " <div itemprop=\"articleBody\">Actor-turned-author Twinkle Khanna, who is the daughter of veteran Bollywood actor Rajesh Khanna and Dimple Kapadia, said that her first paid job was to deliver fish and prawns. \"My grandmother's sister had a fish company,\" she said. \"When I used to tell someone, they would say, 'Tu machhiwali hai?' (Are you a fisherwoman?),\" Twinkle said.</div>,\n",
       " <div itemprop=\"articleBody\">Ex-England cricketer Graeme Swann said he'd sell his house and send his kids away to school just so that he could sit down and watch India batter Suryakumar Yadav bat everyday. \"There is no one better than Suryakumar in the world...He is an absolute joke of a player,\" added Swann. Suryakumar recently scored 83 off 35 balls against RCB.</div>,\n",
       " <div itemprop=\"articleBody\">Talking about MI captain Rohit Sharma who has scored 191 runs in 11 IPL 2023 matches, former New Zealand cricketer Simon Doull said, \"It's just not working for Rohit. Now what happens if Tilak Varma is fit?\" \"You can't drop Nehal Wadhera now,\" added Doull. \"Rohit's shot selection hasn't been the greatest,\" ex-India head coach Ravi Shastri had earlier stated.</div>,\n",
       " <div itemprop=\"articleBody\">OpenAI CEO Sam Altman will testify before US Congress for the first time next week as lawmakers grapple with how best to regulate artificial intelligence (AI) as the technology becomes more powerful. Altman was part of a White House meeting on AI last week that discussed how to ensure regulatory safeguards. IBM's Chief Privacy Officer Christina Montgomery is another witness.\n",
       " </div>,\n",
       " <div itemprop=\"articleBody\">Some Twitter users have received responses from accounts posing to be the customer care account of Paytm after tweeting the name of company, according to multiple reports. The fake messages, mimicking the writing style of the official account, ask users to call on a certain number. Reports noted that Paytm's official customer care account is currently unverified. </div>,\n",
       " <div itemprop=\"articleBody\">BJP leader Rajyavardhan Rathore on Wednesday said that he's confident that the people of Karnataka will bless the BJP. \"These are just exit polls, the results will be very favourable to the BJP,\" Rathore said. \"They have seen the development in the entire country. They've realised when...there's a double engine government, the magnitude of work is much bigger,\" he added.</div>,\n",
       " <div itemprop=\"articleBody\">The New York Times has faced backlash for its interview of convicted Theranos Founder Elizabeth Holmes. The media publication has been accused of offering Holmes a chance of embellishing her image. Scott Budman, a journalist who covered the Theranos trial, wrote on Twitter, \"The last line of the New York Times story is wrong\".\n",
       " \n",
       " </div>,\n",
       " <div itemprop=\"articleBody\">Walmart International CEO Judith McKenna said India is a \"priority market\" for the company. \"I am continually impressed by the entrepreneurial spirit across the country, and...Walmart is proud to play a small part in India's growth story,\" McKenna added. Walmart CEO Doug McMillon also said the firm is committed to source goods worth $10 billion from India annually by 2027.</div>,\n",
       " <div itemprop=\"articleBody\">The Pimpri-Chinchwad Police have booked five persons of a family for allegedly harassing and forcing a woman to do 150 sit-ups, police said. According to police, the woman was assaulted by her husband and in-laws since December 2021 over petty issues. In her complaint, the woman claimed the accused, Javed Mubarak Mulla, forced her to do 150 sit-ups last week.</div>,\n",
       " <div itemprop=\"articleBody\">External Affairs Minister S Jaishankar said that the Indian economy can grow and become stronger only if the focus is shifted to deep manufacturing capabilities and if businesses stop \"looking for a China fix\". \"We should not allow a level playing field for others who subsidise efforts, that's not a level playing field, that is economic suicide,\" he said. </div>,\n",
       " <div itemprop=\"articleBody\">Pratt &amp; Whitney has said it's pursuing its own legal recourse against Go First after the latter claimed it filed for bankruptcy after grounding aircraft due to Pratt &amp; Whitney's failing engines. \"Go First's allegations that Pratt &amp; Whitney is responsible for its financial condition are without merit. Pratt &amp; Whitney will vigorously defend itself against Go's claims,\" P&amp;W said.</div>,\n",
       " <div itemprop=\"articleBody\">The board of Godrej Consumer Products on Wednesday approved raising up to ₹5,000 crore through issuance of non-convertible debentures. The company posted a consolidated net profit of  ₹452.14 crore for the quarter ended March, recording a 24% jump from the year-ago period. Its revenue also surged about 10% to around ₹3,200 crore.</div>,\n",
       " <div itemprop=\"articleBody\">The annual increase in US consumer prices slowed to below 5% in April for the first time in two years, according to the latest Consumer Price Index released on Wednesday. In the 12 months through April, the CPI increased 4.9%. That was the smallest year-on-year rise since April 2021 and followed a 5.0% advance in March. \n",
       " </div>]"
      ]
     },
     "execution_count": 33,
     "metadata": {},
     "output_type": "execute_result"
    }
   ],
   "source": [
    "soup.find_all('div', itemprop='articleBody')"
   ]
  },
  {
   "cell_type": "code",
   "execution_count": 34,
   "id": "1c47f771-a85f-41b8-be8c-bf035793fefd",
   "metadata": {},
   "outputs": [
    {
     "data": {
      "text/plain": [
       "\"After West Bengal CM Mamata Banerjee banned the movie 'The Kerala Story' on Monday, a public interest litigation (PIL) has been filed against the same in Calcutta High Court. The petitioner on Wednesday told the court that the state government's decision is against the right to freedom of speech. The case will be heard by the court on May 15.\""
      ]
     },
     "execution_count": 34,
     "metadata": {},
     "output_type": "execute_result"
    }
   ],
   "source": [
    "soup.find_all('div', itemprop='articleBody')[0].text"
   ]
  },
  {
   "cell_type": "markdown",
   "id": "981a5d30-ac99-489d-b4fa-08044f700527",
   "metadata": {},
   "source": [
    "### Get categories"
   ]
  },
  {
   "cell_type": "code",
   "execution_count": 35,
   "id": "1ad41631",
   "metadata": {},
   "outputs": [
    {
     "data": {
      "text/plain": [
       "[<li class=\"active-category selected\">All News</li>,\n",
       " <li class=\"active-category\">India</li>,\n",
       " <li class=\"active-category\">Business</li>,\n",
       " <li class=\"active-category\">Sports</li>,\n",
       " <li class=\"active-category\">World</li>,\n",
       " <li class=\"active-category\">Politics</li>,\n",
       " <li class=\"active-category\">Technology</li>,\n",
       " <li class=\"active-category\">Startup</li>,\n",
       " <li class=\"active-category\">Entertainment</li>,\n",
       " <li class=\"active-category\">Miscellaneous</li>,\n",
       " <li class=\"active-category\">Hatke</li>,\n",
       " <li class=\"active-category\">Science</li>,\n",
       " <li class=\"active-category\">Automobile</li>]"
      ]
     },
     "execution_count": 35,
     "metadata": {},
     "output_type": "execute_result"
    }
   ],
   "source": [
    "soup.select('li')"
   ]
  },
  {
   "cell_type": "code",
   "execution_count": 36,
   "id": "6e81efc4",
   "metadata": {},
   "outputs": [
    {
     "data": {
      "text/plain": [
       "['india',\n",
       " 'business',\n",
       " 'sports',\n",
       " 'world',\n",
       " 'politics',\n",
       " 'technology',\n",
       " 'startup',\n",
       " 'entertainment',\n",
       " 'miscellaneous',\n",
       " 'hatke',\n",
       " 'science',\n",
       " 'automobile']"
      ]
     },
     "execution_count": 36,
     "metadata": {},
     "output_type": "execute_result"
    }
   ],
   "source": [
    "[li.text.lower() for li in soup.select('li')][1:]"
   ]
  },
  {
   "cell_type": "code",
   "execution_count": 37,
   "id": "3174329e-226f-4a7f-ad89-d26747884d23",
   "metadata": {
    "scrolled": true
   },
   "outputs": [
    {
     "data": {
      "text/plain": [
       "['national',\n",
       " 'business',\n",
       " 'sports',\n",
       " 'world',\n",
       " 'politics',\n",
       " 'technology',\n",
       " 'startup',\n",
       " 'entertainment',\n",
       " 'miscellaneous',\n",
       " 'hatke',\n",
       " 'science',\n",
       " 'automobile']"
      ]
     },
     "execution_count": 37,
     "metadata": {},
     "output_type": "execute_result"
    }
   ],
   "source": [
    "categories = [li.text.lower() for li in soup.select('li')][1:]\n",
    "categories[0] = 'national'\n",
    "categories"
   ]
  },
  {
   "cell_type": "markdown",
   "id": "cebdf687-de01-4990-b279-bc0ee72e4252",
   "metadata": {},
   "source": [
    "### Put it together"
   ]
  },
  {
   "cell_type": "code",
   "execution_count": 38,
   "id": "4e7577cc-c938-462d-bc1d-9ba7e32bb7c1",
   "metadata": {},
   "outputs": [],
   "source": [
    "# catorgories = ['business', 'sports', 'technology', 'entertainment']\n",
    "categories = [li.text.lower() for li in soup.select('li')][1:]\n",
    "categories[0] = 'national'\n",
    "\n",
    "inshorts = []\n",
    "\n",
    "for category in categories:\n",
    "    \n",
    "    url = 'https://inshorts.com/en/read' + '/' + category\n",
    "    response = get(url)\n",
    "    soup = BeautifulSoup(response.content, 'html.parser')\n",
    "    \n",
    "    titles = [span.text for span in soup.find_all('span', itemprop='headline')]\n",
    "    contents = [div.text for div in soup.find_all('div', itemprop='articleBody')]\n",
    "    \n",
    "    for i in range(len(titles)):\n",
    "        \n",
    "        article = {\n",
    "            'title': titles[i],\n",
    "            'content': contents[i],\n",
    "            'category': category,\n",
    "        }\n",
    "        \n",
    "        inshorts.append(article)"
   ]
  },
  {
   "cell_type": "code",
   "execution_count": 39,
   "id": "781be619-772a-4a1f-8052-dcd940cfdf62",
   "metadata": {},
   "outputs": [
    {
     "data": {
      "text/plain": [
       "[{'title': \"Petition filed in HC challenging 'The Kerala Story' ban in Bengal\",\n",
       "  'content': \"After West Bengal CM Mamata Banerjee banned the movie 'The Kerala Story' on Monday, a public interest litigation (PIL) has been filed against the same in Calcutta High Court. The petitioner on Wednesday told the court that the state government's decision is against the right to freedom of speech. The case will be heard by the court on May 15.\",\n",
       "  'category': 'national'},\n",
       " {'title': \"Haryana CM makes 'The Kerala Story' tax-free in the state \",\n",
       "  'content': \"Haryana CM Manohar Lal Khattar on Wednesday said that 'The Kerala Story' has been made tax-free in the state. This comes after the movie was made tax-free in other BJP ruled states, including UP, MP and Uttarakhand. However, the movie was banned in West Bengal. It was done to avoid incidents of hatred in the state, CM Mamata Banerjee said. \",\n",
       "  'category': 'national'},\n",
       " {'title': \"Exit polls are done in hurry, there will be many errors: K'taka CM\",\n",
       "  'content': 'As multiple exit polls predicted Congress\\' lead in Karnataka, CM Basavaraj Bommai said that these polls can\\'t be 100% correct. \"Exit polls are done in a hurry, there will be lots of errors,\" he said. \"I am very much confident that we will come back to power with an absolute majority. I am 200% confident,\" he added.',\n",
       "  'category': 'national'},\n",
       " {'title': '7 members of family burnt to death as fire breaks out at UP house',\n",
       "  'content': \"Seven members of a family, including four minors, were burnt alive after a massive fire broke out at their house in UP's Kushinagar. While the cause behind the fire is yet to be ascertained, local residents claimed the clay oven wasn't properly doused after preparing food. CM Yogi Adityanath has announced ₹4 lakh each to the family of the deceased.\",\n",
       "  'category': 'national'},\n",
       " {'title': \"Rahul Gandhi issued notice over his 'unannounced' visit to Delhi University hostel\",\n",
       "  'content': 'Days after he visited Delhi University\\'s PG Men\\'s Hostel, the University sent a notice to Congress leader Rahul Gandhi, saying his visit was \"sudden and unannounced\". It also asked Gandhi to \\'cease and desist\\' from taking any such \"untoward step in future for the well being, safekeeping of the hostel residents, staff and...authorities\". Gandhi had visited the hostel on Friday.',\n",
       "  'category': 'national'}]"
      ]
     },
     "execution_count": 39,
     "metadata": {},
     "output_type": "execute_result"
    }
   ],
   "source": [
    "inshorts[0:5]"
   ]
  },
  {
   "cell_type": "code",
   "execution_count": 40,
   "id": "c53d2b05-8767-40a6-bdbc-a487f111b144",
   "metadata": {},
   "outputs": [
    {
     "data": {
      "text/html": [
       "<div>\n",
       "<style scoped>\n",
       "    .dataframe tbody tr th:only-of-type {\n",
       "        vertical-align: middle;\n",
       "    }\n",
       "\n",
       "    .dataframe tbody tr th {\n",
       "        vertical-align: top;\n",
       "    }\n",
       "\n",
       "    .dataframe thead th {\n",
       "        text-align: right;\n",
       "    }\n",
       "</style>\n",
       "<table border=\"1\" class=\"dataframe\">\n",
       "  <thead>\n",
       "    <tr style=\"text-align: right;\">\n",
       "      <th></th>\n",
       "      <th>title</th>\n",
       "      <th>content</th>\n",
       "      <th>category</th>\n",
       "    </tr>\n",
       "  </thead>\n",
       "  <tbody>\n",
       "    <tr>\n",
       "      <th>0</th>\n",
       "      <td>Petition filed in HC challenging 'The Kerala S...</td>\n",
       "      <td>After West Bengal CM Mamata Banerjee banned th...</td>\n",
       "      <td>national</td>\n",
       "    </tr>\n",
       "    <tr>\n",
       "      <th>1</th>\n",
       "      <td>Haryana CM makes 'The Kerala Story' tax-free i...</td>\n",
       "      <td>Haryana CM Manohar Lal Khattar on Wednesday sa...</td>\n",
       "      <td>national</td>\n",
       "    </tr>\n",
       "    <tr>\n",
       "      <th>2</th>\n",
       "      <td>Exit polls are done in hurry, there will be ma...</td>\n",
       "      <td>As multiple exit polls predicted Congress' lea...</td>\n",
       "      <td>national</td>\n",
       "    </tr>\n",
       "    <tr>\n",
       "      <th>3</th>\n",
       "      <td>7 members of family burnt to death as fire bre...</td>\n",
       "      <td>Seven members of a family, including four mino...</td>\n",
       "      <td>national</td>\n",
       "    </tr>\n",
       "    <tr>\n",
       "      <th>4</th>\n",
       "      <td>Rahul Gandhi issued notice over his 'unannounc...</td>\n",
       "      <td>Days after he visited Delhi University's PG Me...</td>\n",
       "      <td>national</td>\n",
       "    </tr>\n",
       "    <tr>\n",
       "      <th>...</th>\n",
       "      <td>...</td>\n",
       "      <td>...</td>\n",
       "      <td>...</td>\n",
       "    </tr>\n",
       "    <tr>\n",
       "      <th>291</th>\n",
       "      <td>Volvo Cars to slash 1,300 white-collar jobs to...</td>\n",
       "      <td>The Chinese-owned Volvo Cars of Sweden said in...</td>\n",
       "      <td>automobile</td>\n",
       "    </tr>\n",
       "    <tr>\n",
       "      <th>292</th>\n",
       "      <td>EV ecosystem still not mature in India: Renaul...</td>\n",
       "      <td>Venkatram Mamillapalle, Renault India MD and C...</td>\n",
       "      <td>automobile</td>\n",
       "    </tr>\n",
       "    <tr>\n",
       "      <th>293</th>\n",
       "      <td>Lordstown shares fall 25% as Foxconn alleges $...</td>\n",
       "      <td>Lordstown Motors' shares fell by 25% after maj...</td>\n",
       "      <td>automobile</td>\n",
       "    </tr>\n",
       "    <tr>\n",
       "      <th>294</th>\n",
       "      <td>Honda Cars records 33% Y-o-Y dip in domestic s...</td>\n",
       "      <td>Honda Cars India recorded a 33% year-on-year d...</td>\n",
       "      <td>automobile</td>\n",
       "    </tr>\n",
       "    <tr>\n",
       "      <th>295</th>\n",
       "      <td>Govt to recover ₹250 crore from Okinawa, Hero ...</td>\n",
       "      <td>Heavy Industries Ministry has issued notices t...</td>\n",
       "      <td>automobile</td>\n",
       "    </tr>\n",
       "  </tbody>\n",
       "</table>\n",
       "<p>296 rows × 3 columns</p>\n",
       "</div>"
      ],
      "text/plain": [
       "                                                 title  \\\n",
       "0    Petition filed in HC challenging 'The Kerala S...   \n",
       "1    Haryana CM makes 'The Kerala Story' tax-free i...   \n",
       "2    Exit polls are done in hurry, there will be ma...   \n",
       "3    7 members of family burnt to death as fire bre...   \n",
       "4    Rahul Gandhi issued notice over his 'unannounc...   \n",
       "..                                                 ...   \n",
       "291  Volvo Cars to slash 1,300 white-collar jobs to...   \n",
       "292  EV ecosystem still not mature in India: Renaul...   \n",
       "293  Lordstown shares fall 25% as Foxconn alleges $...   \n",
       "294  Honda Cars records 33% Y-o-Y dip in domestic s...   \n",
       "295  Govt to recover ₹250 crore from Okinawa, Hero ...   \n",
       "\n",
       "                                               content    category  \n",
       "0    After West Bengal CM Mamata Banerjee banned th...    national  \n",
       "1    Haryana CM Manohar Lal Khattar on Wednesday sa...    national  \n",
       "2    As multiple exit polls predicted Congress' lea...    national  \n",
       "3    Seven members of a family, including four mino...    national  \n",
       "4    Days after he visited Delhi University's PG Me...    national  \n",
       "..                                                 ...         ...  \n",
       "291  The Chinese-owned Volvo Cars of Sweden said in...  automobile  \n",
       "292  Venkatram Mamillapalle, Renault India MD and C...  automobile  \n",
       "293  Lordstown Motors' shares fell by 25% after maj...  automobile  \n",
       "294  Honda Cars India recorded a 33% year-on-year d...  automobile  \n",
       "295  Heavy Industries Ministry has issued notices t...  automobile  \n",
       "\n",
       "[296 rows x 3 columns]"
      ]
     },
     "execution_count": 40,
     "metadata": {},
     "output_type": "execute_result"
    }
   ],
   "source": [
    "inshorts_article_df = pd.DataFrame(inshorts)\n",
    "inshorts_article_df"
   ]
  },
  {
   "cell_type": "code",
   "execution_count": 41,
   "id": "e0b03928-df3b-4fd6-b435-633a89675a7e",
   "metadata": {},
   "outputs": [],
   "source": [
    "inshorts_article_df.to_csv('news_articles.csv', index=False)"
   ]
  },
  {
   "cell_type": "code",
   "execution_count": null,
   "id": "1abe1ec6",
   "metadata": {},
   "outputs": [],
   "source": []
  }
 ],
 "metadata": {
  "kernelspec": {
   "display_name": "Python 3 (ipykernel)",
   "language": "python",
   "name": "python3"
  },
  "language_info": {
   "codemirror_mode": {
    "name": "ipython",
    "version": 3
   },
   "file_extension": ".py",
   "mimetype": "text/x-python",
   "name": "python",
   "nbconvert_exporter": "python",
   "pygments_lexer": "ipython3",
   "version": "3.9.12"
  }
 },
 "nbformat": 4,
 "nbformat_minor": 5
}